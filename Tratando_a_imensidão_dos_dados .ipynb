{
  "nbformat": 4,
  "nbformat_minor": 0,
  "metadata": {
    "colab": {
      "provenance": []
    },
    "kernelspec": {
      "name": "python3",
      "display_name": "Python 3"
    },
    "language_info": {
      "name": "python"
    }
  },
  "cells": [
    {
      "cell_type": "markdown",
      "source": [
        "Microatividade 1: Descrever como ler um arquivo CSV usando a biblioteca Pandas"
      ],
      "metadata": {
        "id": "LwVw45FvRL1j"
      }
    },
    {
      "cell_type": "code",
      "execution_count": 2,
      "metadata": {
        "id": "CiXueMKKWwDm",
        "colab": {
          "base_uri": "https://localhost:8080/"
        },
        "outputId": "caa68d51-c5c2-4a9c-870d-e25b6d95d32c"
      },
      "outputs": [
        {
          "output_type": "stream",
          "name": "stdout",
          "text": [
            "    ID  Duration          Date  Pulse  Maxpulse Calories\n",
            "0    0        60  '2020/12/01'    110       130     4091\n",
            "1    1        60  '2020/12/02'    117       145     4790\n",
            "2    2        60  '2020/12/03'    103       135     3400\n",
            "3    3        45  '2020/12/04'    109       175     2824\n",
            "4    4        45  '2020/12/05'    117       148     4060\n",
            "5    5        60  '2020/12/06'    102       127     3000\n",
            "6    6        60  '2020/12/07'    110       136     3740\n",
            "7    7       450  '2020/12/08'    104       134     2533\n",
            "8    8        30  '2020/12/09'    109       133     1951\n",
            "9    9        60  '2020/12/10'     98       124     2690\n",
            "10  10        60  '2020/12/11'    103       147     3293\n",
            "11  11        60  '2020/12/12'    100       120     2507\n",
            "12  12        60  '2020/12/12'    100       120     2507\n",
            "13  13        60  '2020/12/13'    106       128     3453\n",
            "14  14        60  '2020/12/14'    104       132     3793\n",
            "15  15        60  '2020/12/15'     98       123     2750\n",
            "16  16        60  '2020/12/16'     98       120     2152\n",
            "17  17        60  '2020/12/17'    100       120     3000\n",
            "18  18        45  '2020/12/18'     90       112      NaN\n",
            "19  19        60  '2020/12/19'    103       123     3230\n",
            "20  20        45  '2020/12/20'     97       125   2430 2\n",
            "21   1        60  '2020/12/21'    108       131     3642\n",
            "22  22        45           NaN    100       119     2820\n",
            "23  23        60  '2020/12/23'    130       101     3000\n",
            "24  24        45  '2020/12/24'    105       132     2460\n",
            "25  25        60  '2020/12/25'    102       126     3345\n",
            "26  26        60      20201226    100       120     2500\n",
            "27  27        60  '2020/12/27'     92       118     2410\n",
            "28  28        60  '2020/12/28'    103       132      NaN\n",
            "29  29        60  '2020/12/29'    100       132     2800\n",
            "30  30        60  '2020/12/30'    102       129     3803\n",
            "31  31        60  '2020/12/31'     92       115     2430\n"
          ]
        }
      ],
      "source": [
        "import pandas as pd\n",
        "# Variável contendo o caminho do arquivo CSV\n",
        "file_path = '/content/data.csv'\n",
        "# Ler o conteúdo do arquivo CSV\n",
        "dados = pd.read_csv(file_path, sep=';', engine='python')\n",
        "\n",
        "print(dados)"
      ]
    },
    {
      "cell_type": "markdown",
      "source": [
        "Microatividade 2: Descrever como criar um subconjunto de dados a partir de um conjunto existente usando a biblioteca Pandas"
      ],
      "metadata": {
        "id": "KfpkdqeORXI0"
      }
    },
    {
      "cell_type": "code",
      "source": [
        "# Variável contendo subconjunto de colunas, selecionando ID, duração e calorias\n",
        "subconjunto_dados = dados[['ID', 'Duration', 'Calories']]\n",
        "\n",
        "print(subconjunto_dados)"
      ],
      "metadata": {
        "colab": {
          "base_uri": "https://localhost:8080/"
        },
        "id": "HzrSLt_SRchW",
        "outputId": "e72fb629-f2b1-4754-e390-b802c04c4158"
      },
      "execution_count": 3,
      "outputs": [
        {
          "output_type": "stream",
          "name": "stdout",
          "text": [
            "    ID  Duration Calories\n",
            "0    0        60     4091\n",
            "1    1        60     4790\n",
            "2    2        60     3400\n",
            "3    3        45     2824\n",
            "4    4        45     4060\n",
            "5    5        60     3000\n",
            "6    6        60     3740\n",
            "7    7       450     2533\n",
            "8    8        30     1951\n",
            "9    9        60     2690\n",
            "10  10        60     3293\n",
            "11  11        60     2507\n",
            "12  12        60     2507\n",
            "13  13        60     3453\n",
            "14  14        60     3793\n",
            "15  15        60     2750\n",
            "16  16        60     2152\n",
            "17  17        60     3000\n",
            "18  18        45      NaN\n",
            "19  19        60     3230\n",
            "20  20        45   2430 2\n",
            "21   1        60     3642\n",
            "22  22        45     2820\n",
            "23  23        60     3000\n",
            "24  24        45     2460\n",
            "25  25        60     3345\n",
            "26  26        60     2500\n",
            "27  27        60     2410\n",
            "28  28        60      NaN\n",
            "29  29        60     2800\n",
            "30  30        60     3803\n",
            "31  31        60     2430\n"
          ]
        }
      ]
    },
    {
      "cell_type": "markdown",
      "source": [
        "Microatividade 3: Descrever como configurar o número máximo de linhas a serem exibidas na visualização de um conjunto de dados usando a biblioteca Pandas"
      ],
      "metadata": {
        "id": "bVcfoxG1SAYT"
      }
    },
    {
      "cell_type": "code",
      "source": [
        "# Define o novo valor para a propriedade max_rows\n",
        "pd.set_option('display.max_rows', 9999)\n",
        "\n",
        "print(dados.to_string())"
      ],
      "metadata": {
        "colab": {
          "base_uri": "https://localhost:8080/"
        },
        "id": "40udvLaCSDYv",
        "outputId": "a806d6ae-6553-497a-b8e8-d1529e247cfe"
      },
      "execution_count": 4,
      "outputs": [
        {
          "output_type": "stream",
          "name": "stdout",
          "text": [
            "    ID  Duration          Date  Pulse  Maxpulse Calories\n",
            "0    0        60  '2020/12/01'    110       130     4091\n",
            "1    1        60  '2020/12/02'    117       145     4790\n",
            "2    2        60  '2020/12/03'    103       135     3400\n",
            "3    3        45  '2020/12/04'    109       175     2824\n",
            "4    4        45  '2020/12/05'    117       148     4060\n",
            "5    5        60  '2020/12/06'    102       127     3000\n",
            "6    6        60  '2020/12/07'    110       136     3740\n",
            "7    7       450  '2020/12/08'    104       134     2533\n",
            "8    8        30  '2020/12/09'    109       133     1951\n",
            "9    9        60  '2020/12/10'     98       124     2690\n",
            "10  10        60  '2020/12/11'    103       147     3293\n",
            "11  11        60  '2020/12/12'    100       120     2507\n",
            "12  12        60  '2020/12/12'    100       120     2507\n",
            "13  13        60  '2020/12/13'    106       128     3453\n",
            "14  14        60  '2020/12/14'    104       132     3793\n",
            "15  15        60  '2020/12/15'     98       123     2750\n",
            "16  16        60  '2020/12/16'     98       120     2152\n",
            "17  17        60  '2020/12/17'    100       120     3000\n",
            "18  18        45  '2020/12/18'     90       112      NaN\n",
            "19  19        60  '2020/12/19'    103       123     3230\n",
            "20  20        45  '2020/12/20'     97       125   2430 2\n",
            "21   1        60  '2020/12/21'    108       131     3642\n",
            "22  22        45           NaN    100       119     2820\n",
            "23  23        60  '2020/12/23'    130       101     3000\n",
            "24  24        45  '2020/12/24'    105       132     2460\n",
            "25  25        60  '2020/12/25'    102       126     3345\n",
            "26  26        60      20201226    100       120     2500\n",
            "27  27        60  '2020/12/27'     92       118     2410\n",
            "28  28        60  '2020/12/28'    103       132      NaN\n",
            "29  29        60  '2020/12/29'    100       132     2800\n",
            "30  30        60  '2020/12/30'    102       129     3803\n",
            "31  31        60  '2020/12/31'     92       115     2430\n"
          ]
        }
      ]
    },
    {
      "cell_type": "markdown",
      "source": [
        "Microatividade 4: Descrever como exibir as primeiras e últimas “N” linhas de um conjunto de dados usando a biblioteca Pandas"
      ],
      "metadata": {
        "id": "50-PzZVjTCLv"
      }
    },
    {
      "cell_type": "code",
      "source": [
        "print(\"Primeiras 10 linhas:\")\n",
        "print(dados.head(10))\n",
        "\n",
        "print(\"\\nÚltimas 10 linhas:\")\n",
        "print(dados.tail(10))"
      ],
      "metadata": {
        "colab": {
          "base_uri": "https://localhost:8080/"
        },
        "id": "ZVeFwaEBTuuQ",
        "outputId": "edbcee95-f731-430a-8081-65ff481636a0"
      },
      "execution_count": 5,
      "outputs": [
        {
          "output_type": "stream",
          "name": "stdout",
          "text": [
            "Primeiras 10 linhas:\n",
            "   ID  Duration          Date  Pulse  Maxpulse Calories\n",
            "0   0        60  '2020/12/01'    110       130     4091\n",
            "1   1        60  '2020/12/02'    117       145     4790\n",
            "2   2        60  '2020/12/03'    103       135     3400\n",
            "3   3        45  '2020/12/04'    109       175     2824\n",
            "4   4        45  '2020/12/05'    117       148     4060\n",
            "5   5        60  '2020/12/06'    102       127     3000\n",
            "6   6        60  '2020/12/07'    110       136     3740\n",
            "7   7       450  '2020/12/08'    104       134     2533\n",
            "8   8        30  '2020/12/09'    109       133     1951\n",
            "9   9        60  '2020/12/10'     98       124     2690\n",
            "\n",
            "Últimas 10 linhas:\n",
            "    ID  Duration          Date  Pulse  Maxpulse Calories\n",
            "22  22        45           NaN    100       119     2820\n",
            "23  23        60  '2020/12/23'    130       101     3000\n",
            "24  24        45  '2020/12/24'    105       132     2460\n",
            "25  25        60  '2020/12/25'    102       126     3345\n",
            "26  26        60      20201226    100       120     2500\n",
            "27  27        60  '2020/12/27'     92       118     2410\n",
            "28  28        60  '2020/12/28'    103       132      NaN\n",
            "29  29        60  '2020/12/29'    100       132     2800\n",
            "30  30        60  '2020/12/30'    102       129     3803\n",
            "31  31        60  '2020/12/31'     92       115     2430\n"
          ]
        }
      ]
    },
    {
      "cell_type": "markdown",
      "source": [
        "Microatividade 5: Descrever como exibir informações gerais sobre as colunaslinhas e dados de um conjunto de dados usando a biblioteca Pandas"
      ],
      "metadata": {
        "id": "d0kqdIauTHJh"
      }
    },
    {
      "cell_type": "code",
      "source": [
        "print(\"Informações gerais do conjunto de dados:\")\n",
        "dados.info()\n",
        "\n",
        "total_linhas = dados.shape[0]\n",
        "total_colunas = dados.shape[1]\n",
        "quantidade_nulos = dados.isnull().sum()\n",
        "tipos_dados = dados.dtypes\n",
        "memoria_utilizada = dados.memory_usage(deep=True).sum()\n",
        "\n",
        "print(f\"\\nTotal de linhas: {total_linhas}\")\n",
        "print(f\"Total de colunas: {total_colunas}\")\n",
        "print(f\"Quantidade de dados nulos:\\n{quantidade_nulos}\")\n",
        "print(f\"Tipos de dados de cada coluna:\\n{tipos_dados}\")\n",
        "print(f\"Quantidade de memória utilizada: {memoria_utilizada} bytes\")"
      ],
      "metadata": {
        "colab": {
          "base_uri": "https://localhost:8080/"
        },
        "id": "IfttpI63T3Xi",
        "outputId": "f8140f4d-42c5-47aa-837d-767c9edf54f4"
      },
      "execution_count": 6,
      "outputs": [
        {
          "output_type": "stream",
          "name": "stdout",
          "text": [
            "Informações gerais do conjunto de dados:\n",
            "<class 'pandas.core.frame.DataFrame'>\n",
            "RangeIndex: 32 entries, 0 to 31\n",
            "Data columns (total 6 columns):\n",
            " #   Column    Non-Null Count  Dtype \n",
            "---  ------    --------------  ----- \n",
            " 0   ID        32 non-null     int64 \n",
            " 1   Duration  32 non-null     int64 \n",
            " 2   Date      31 non-null     object\n",
            " 3   Pulse     32 non-null     int64 \n",
            " 4   Maxpulse  32 non-null     int64 \n",
            " 5   Calories  30 non-null     object\n",
            "dtypes: int64(4), object(2)\n",
            "memory usage: 1.6+ KB\n",
            "\n",
            "Total de linhas: 32\n",
            "Total de colunas: 6\n",
            "Quantidade de dados nulos:\n",
            "ID          0\n",
            "Duration    0\n",
            "Date        1\n",
            "Pulse       0\n",
            "Maxpulse    0\n",
            "Calories    2\n",
            "dtype: int64\n",
            "Tipos de dados de cada coluna:\n",
            "ID           int64\n",
            "Duration     int64\n",
            "Date        object\n",
            "Pulse        int64\n",
            "Maxpulse     int64\n",
            "Calories    object\n",
            "dtype: object\n",
            "Quantidade de memória utilizada: 5215 bytes\n"
          ]
        }
      ]
    },
    {
      "cell_type": "markdown",
      "source": [
        "Missão Prática:"
      ],
      "metadata": {
        "id": "q3XbxmoWUGKG"
      }
    },
    {
      "cell_type": "code",
      "source": [
        "# Variável contendo a cópia dos dados\n",
        "dados_copia = dados.copy()\n",
        "\n",
        "# Substituição de todos os valores nulos da coluna 'Calories' por 0\n",
        "dados_copia['Calories'].fillna(0, inplace=True)\n",
        "\n",
        "print(dados_copia)"
      ],
      "metadata": {
        "colab": {
          "base_uri": "https://localhost:8080/"
        },
        "id": "euhP3n3VUHqS",
        "outputId": "d41da772-21df-48b5-ddf4-609094fa597d"
      },
      "execution_count": 8,
      "outputs": [
        {
          "output_type": "stream",
          "name": "stdout",
          "text": [
            "    ID  Duration          Date  Pulse  Maxpulse Calories\n",
            "0    0        60  '2020/12/01'    110       130     4091\n",
            "1    1        60  '2020/12/02'    117       145     4790\n",
            "2    2        60  '2020/12/03'    103       135     3400\n",
            "3    3        45  '2020/12/04'    109       175     2824\n",
            "4    4        45  '2020/12/05'    117       148     4060\n",
            "5    5        60  '2020/12/06'    102       127     3000\n",
            "6    6        60  '2020/12/07'    110       136     3740\n",
            "7    7       450  '2020/12/08'    104       134     2533\n",
            "8    8        30  '2020/12/09'    109       133     1951\n",
            "9    9        60  '2020/12/10'     98       124     2690\n",
            "10  10        60  '2020/12/11'    103       147     3293\n",
            "11  11        60  '2020/12/12'    100       120     2507\n",
            "12  12        60  '2020/12/12'    100       120     2507\n",
            "13  13        60  '2020/12/13'    106       128     3453\n",
            "14  14        60  '2020/12/14'    104       132     3793\n",
            "15  15        60  '2020/12/15'     98       123     2750\n",
            "16  16        60  '2020/12/16'     98       120     2152\n",
            "17  17        60  '2020/12/17'    100       120     3000\n",
            "18  18        45  '2020/12/18'     90       112        0\n",
            "19  19        60  '2020/12/19'    103       123     3230\n",
            "20  20        45  '2020/12/20'     97       125   2430 2\n",
            "21   1        60  '2020/12/21'    108       131     3642\n",
            "22  22        45           NaN    100       119     2820\n",
            "23  23        60  '2020/12/23'    130       101     3000\n",
            "24  24        45  '2020/12/24'    105       132     2460\n",
            "25  25        60  '2020/12/25'    102       126     3345\n",
            "26  26        60      20201226    100       120     2500\n",
            "27  27        60  '2020/12/27'     92       118     2410\n",
            "28  28        60  '2020/12/28'    103       132        0\n",
            "29  29        60  '2020/12/29'    100       132     2800\n",
            "30  30        60  '2020/12/30'    102       129     3803\n",
            "31  31        60  '2020/12/31'     92       115     2430\n"
          ]
        },
        {
          "output_type": "stream",
          "name": "stderr",
          "text": [
            "<ipython-input-8-6a86727a5ead>:5: FutureWarning: A value is trying to be set on a copy of a DataFrame or Series through chained assignment using an inplace method.\n",
            "The behavior will change in pandas 3.0. This inplace method will never work because the intermediate object on which we are setting values always behaves as a copy.\n",
            "\n",
            "For example, when doing 'df[col].method(value, inplace=True)', try using 'df.method({col: value}, inplace=True)' or df[col] = df[col].method(value) instead, to perform the operation inplace on the original object.\n",
            "\n",
            "\n",
            "  dados_copia['Calories'].fillna(0, inplace=True)\n"
          ]
        }
      ]
    },
    {
      "cell_type": "code",
      "source": [
        "# Substituição de todos os valores nulos da coluna 'Date' por '1900/01/01'\n",
        "dados_copia['Date'].fillna('1900/01/01', inplace=True)\n",
        "\n",
        "print(dados_copia)"
      ],
      "metadata": {
        "colab": {
          "base_uri": "https://localhost:8080/"
        },
        "id": "AcxNokhEXRWR",
        "outputId": "2e97e770-0d1f-4f7d-9e67-d720912c3ec1"
      },
      "execution_count": 9,
      "outputs": [
        {
          "output_type": "stream",
          "name": "stdout",
          "text": [
            "    ID  Duration          Date  Pulse  Maxpulse Calories\n",
            "0    0        60  '2020/12/01'    110       130     4091\n",
            "1    1        60  '2020/12/02'    117       145     4790\n",
            "2    2        60  '2020/12/03'    103       135     3400\n",
            "3    3        45  '2020/12/04'    109       175     2824\n",
            "4    4        45  '2020/12/05'    117       148     4060\n",
            "5    5        60  '2020/12/06'    102       127     3000\n",
            "6    6        60  '2020/12/07'    110       136     3740\n",
            "7    7       450  '2020/12/08'    104       134     2533\n",
            "8    8        30  '2020/12/09'    109       133     1951\n",
            "9    9        60  '2020/12/10'     98       124     2690\n",
            "10  10        60  '2020/12/11'    103       147     3293\n",
            "11  11        60  '2020/12/12'    100       120     2507\n",
            "12  12        60  '2020/12/12'    100       120     2507\n",
            "13  13        60  '2020/12/13'    106       128     3453\n",
            "14  14        60  '2020/12/14'    104       132     3793\n",
            "15  15        60  '2020/12/15'     98       123     2750\n",
            "16  16        60  '2020/12/16'     98       120     2152\n",
            "17  17        60  '2020/12/17'    100       120     3000\n",
            "18  18        45  '2020/12/18'     90       112        0\n",
            "19  19        60  '2020/12/19'    103       123     3230\n",
            "20  20        45  '2020/12/20'     97       125   2430 2\n",
            "21   1        60  '2020/12/21'    108       131     3642\n",
            "22  22        45    1900/01/01    100       119     2820\n",
            "23  23        60  '2020/12/23'    130       101     3000\n",
            "24  24        45  '2020/12/24'    105       132     2460\n",
            "25  25        60  '2020/12/25'    102       126     3345\n",
            "26  26        60      20201226    100       120     2500\n",
            "27  27        60  '2020/12/27'     92       118     2410\n",
            "28  28        60  '2020/12/28'    103       132        0\n",
            "29  29        60  '2020/12/29'    100       132     2800\n",
            "30  30        60  '2020/12/30'    102       129     3803\n",
            "31  31        60  '2020/12/31'     92       115     2430\n"
          ]
        },
        {
          "output_type": "stream",
          "name": "stderr",
          "text": [
            "<ipython-input-9-94733f183001>:2: FutureWarning: A value is trying to be set on a copy of a DataFrame or Series through chained assignment using an inplace method.\n",
            "The behavior will change in pandas 3.0. This inplace method will never work because the intermediate object on which we are setting values always behaves as a copy.\n",
            "\n",
            "For example, when doing 'df[col].method(value, inplace=True)', try using 'df.method({col: value}, inplace=True)' or df[col] = df[col].method(value) instead, to perform the operation inplace on the original object.\n",
            "\n",
            "\n",
            "  dados_copia['Date'].fillna('1900/01/01', inplace=True)\n"
          ]
        }
      ]
    },
    {
      "cell_type": "code",
      "source": [
        "# Tranforma os dados da coluna 'Date' em datetime\n",
        "dados_copia['Date'] = pd.to_datetime(dados_copia['Date'])\n",
        "\n",
        "dados_copia['Date'].replace('1900/01/01', pd.NA, inplace=True)\n",
        "\n",
        "dados_copia['Date'] = pd.to_datetime(dados_copia['Date'], errors='coerce')\n",
        "\n",
        "print(dados_copia)"
      ],
      "metadata": {
        "colab": {
          "base_uri": "https://localhost:8080/"
        },
        "id": "cr-OTRgrXUcA",
        "outputId": "04fb70f1-f0cd-4de8-c6be-2ab4a7a6e847"
      },
      "execution_count": 13,
      "outputs": [
        {
          "output_type": "stream",
          "name": "stdout",
          "text": [
            "    ID  Duration       Date  Pulse  Maxpulse Calories\n",
            "0    0        60 2020-12-01    110       130     4091\n",
            "1    1        60 2020-12-02    117       145     4790\n",
            "2    2        60 2020-12-03    103       135     3400\n",
            "3    3        45 2020-12-04    109       175     2824\n",
            "4    4        45 2020-12-05    117       148     4060\n",
            "5    5        60 2020-12-06    102       127     3000\n",
            "6    6        60 2020-12-07    110       136     3740\n",
            "7    7       450 2020-12-08    104       134     2533\n",
            "8    8        30 2020-12-09    109       133     1951\n",
            "9    9        60 2020-12-10     98       124     2690\n",
            "10  10        60 2020-12-11    103       147     3293\n",
            "11  11        60 2020-12-12    100       120     2507\n",
            "12  12        60 2020-12-12    100       120     2507\n",
            "13  13        60 2020-12-13    106       128     3453\n",
            "14  14        60 2020-12-14    104       132     3793\n",
            "15  15        60 2020-12-15     98       123     2750\n",
            "16  16        60 2020-12-16     98       120     2152\n",
            "17  17        60 2020-12-17    100       120     3000\n",
            "18  18        45 2020-12-18     90       112        0\n",
            "19  19        60 2020-12-19    103       123     3230\n",
            "20  20        45 2020-12-20     97       125   2430 2\n",
            "21   1        60 2020-12-21    108       131     3642\n",
            "22  22        45        NaT    100       119     2820\n",
            "23  23        60 2020-12-23    130       101     3000\n",
            "24  24        45 2020-12-24    105       132     2460\n",
            "25  25        60 2020-12-25    102       126     3345\n",
            "26  26        60        NaT    100       120     2500\n",
            "27  27        60 2020-12-27     92       118     2410\n",
            "28  28        60 2020-12-28    103       132        0\n",
            "29  29        60 2020-12-29    100       132     2800\n",
            "30  30        60 2020-12-30    102       129     3803\n",
            "31  31        60 2020-12-31     92       115     2430\n"
          ]
        },
        {
          "output_type": "stream",
          "name": "stderr",
          "text": [
            "<ipython-input-13-ffcf24dfd121>:4: FutureWarning: A value is trying to be set on a copy of a DataFrame or Series through chained assignment using an inplace method.\n",
            "The behavior will change in pandas 3.0. This inplace method will never work because the intermediate object on which we are setting values always behaves as a copy.\n",
            "\n",
            "For example, when doing 'df[col].method(value, inplace=True)', try using 'df.method({col: value}, inplace=True)' or df[col] = df[col].method(value) instead, to perform the operation inplace on the original object.\n",
            "\n",
            "\n",
            "  dados_copia['Date'].replace('1900/01/01', pd.NA, inplace=True)\n"
          ]
        }
      ]
    },
    {
      "cell_type": "code",
      "source": [
        "# Substitui o valor \"20201226\" no formato correto\n",
        "dados_copia['Date'] = dados_copia['Date'].astype(str).replace('20201226', '2020/12/26')\n",
        "\n",
        "dados_copia['Date'] = pd.to_datetime(dados_copia['Date'], errors='coerce')\n",
        "\n",
        "print(\"\\nApós transformar a coluna 'Date' para datetime:\")\n",
        "print(dados_copia)\n",
        "\n",
        "# Remove os registros contendo valores nulos\n",
        "dados_copia.dropna(inplace=True)\n",
        "\n",
        "print(\"\\nDataframe final após remover registros com valores nulos:\")\n",
        "print(dados_copia)"
      ],
      "metadata": {
        "colab": {
          "base_uri": "https://localhost:8080/"
        },
        "id": "kbiLpdjlXXwY",
        "outputId": "7b39d9b4-04c6-4c30-c15e-fb1edab6cf19"
      },
      "execution_count": 15,
      "outputs": [
        {
          "output_type": "stream",
          "name": "stdout",
          "text": [
            "\n",
            "Após transformar a coluna 'Date' para datetime:\n",
            "    ID  Duration       Date  Pulse  Maxpulse Calories\n",
            "0    0        60 2020-12-01    110       130     4091\n",
            "1    1        60 2020-12-02    117       145     4790\n",
            "2    2        60 2020-12-03    103       135     3400\n",
            "3    3        45 2020-12-04    109       175     2824\n",
            "4    4        45 2020-12-05    117       148     4060\n",
            "5    5        60 2020-12-06    102       127     3000\n",
            "6    6        60 2020-12-07    110       136     3740\n",
            "7    7       450 2020-12-08    104       134     2533\n",
            "8    8        30 2020-12-09    109       133     1951\n",
            "9    9        60 2020-12-10     98       124     2690\n",
            "10  10        60 2020-12-11    103       147     3293\n",
            "11  11        60 2020-12-12    100       120     2507\n",
            "12  12        60 2020-12-12    100       120     2507\n",
            "13  13        60 2020-12-13    106       128     3453\n",
            "14  14        60 2020-12-14    104       132     3793\n",
            "15  15        60 2020-12-15     98       123     2750\n",
            "16  16        60 2020-12-16     98       120     2152\n",
            "17  17        60 2020-12-17    100       120     3000\n",
            "18  18        45 2020-12-18     90       112        0\n",
            "19  19        60 2020-12-19    103       123     3230\n",
            "20  20        45 2020-12-20     97       125   2430 2\n",
            "21   1        60 2020-12-21    108       131     3642\n",
            "23  23        60 2020-12-23    130       101     3000\n",
            "24  24        45 2020-12-24    105       132     2460\n",
            "25  25        60 2020-12-25    102       126     3345\n",
            "27  27        60 2020-12-27     92       118     2410\n",
            "28  28        60 2020-12-28    103       132        0\n",
            "29  29        60 2020-12-29    100       132     2800\n",
            "30  30        60 2020-12-30    102       129     3803\n",
            "31  31        60 2020-12-31     92       115     2430\n",
            "\n",
            "Dataframe final após remover registros com valores nulos:\n",
            "    ID  Duration       Date  Pulse  Maxpulse Calories\n",
            "0    0        60 2020-12-01    110       130     4091\n",
            "1    1        60 2020-12-02    117       145     4790\n",
            "2    2        60 2020-12-03    103       135     3400\n",
            "3    3        45 2020-12-04    109       175     2824\n",
            "4    4        45 2020-12-05    117       148     4060\n",
            "5    5        60 2020-12-06    102       127     3000\n",
            "6    6        60 2020-12-07    110       136     3740\n",
            "7    7       450 2020-12-08    104       134     2533\n",
            "8    8        30 2020-12-09    109       133     1951\n",
            "9    9        60 2020-12-10     98       124     2690\n",
            "10  10        60 2020-12-11    103       147     3293\n",
            "11  11        60 2020-12-12    100       120     2507\n",
            "12  12        60 2020-12-12    100       120     2507\n",
            "13  13        60 2020-12-13    106       128     3453\n",
            "14  14        60 2020-12-14    104       132     3793\n",
            "15  15        60 2020-12-15     98       123     2750\n",
            "16  16        60 2020-12-16     98       120     2152\n",
            "17  17        60 2020-12-17    100       120     3000\n",
            "18  18        45 2020-12-18     90       112        0\n",
            "19  19        60 2020-12-19    103       123     3230\n",
            "20  20        45 2020-12-20     97       125   2430 2\n",
            "21   1        60 2020-12-21    108       131     3642\n",
            "23  23        60 2020-12-23    130       101     3000\n",
            "24  24        45 2020-12-24    105       132     2460\n",
            "25  25        60 2020-12-25    102       126     3345\n",
            "27  27        60 2020-12-27     92       118     2410\n",
            "28  28        60 2020-12-28    103       132        0\n",
            "29  29        60 2020-12-29    100       132     2800\n",
            "30  30        60 2020-12-30    102       129     3803\n",
            "31  31        60 2020-12-31     92       115     2430\n"
          ]
        }
      ]
    }
  ]
}